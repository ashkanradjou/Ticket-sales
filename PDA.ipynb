{
  "cells": [
    {
      "cell_type": "markdown",
      "metadata": {
        "id": "view-in-github",
        "colab_type": "text"
      },
      "source": [
        "<a href=\"https://colab.research.google.com/github/ashkanradjou/Ticket-sales/blob/main/PDA.ipynb\" target=\"_parent\"><img src=\"https://colab.research.google.com/assets/colab-badge.svg\" alt=\"Open In Colab\"/></a>"
      ]
    },
    {
      "cell_type": "markdown",
      "source": [
        "# Pushdown Automaton (PDA) Simulator in Python"
      ],
      "metadata": {
        "id": "b5KRCOsy9ZJk"
      }
    },
    {
      "cell_type": "markdown",
      "source": [
        "### Introduction\n",
        "\n",
        "<div dir=rtl>\n",
        "این کد پایتون پیاده سازی ساده ای از شبیه ساز Pushdown Automaton (PDA) را ارائه می دهد.\n",
        "\n",
        " PDA نوعی اتوماتا است که قابلیت‌های اتوماتاهای محدود را با ترکیب یک پشته گسترش می‌دهد و آن را قادر می‌سازد زبان‌های CFL را تشخیص دهد.\n",
        "\n",
        "  یک کلاس شبیه ساز PDA را تعریف  کرده ایم که رفتار یک PDA را مدل می کند و شامل توابعی برای بررسی اینکه آیا یک رشته معین توسط PDA پذیرفته می شود یا خیر.\n",
        "</div>"
      ],
      "metadata": {
        "id": "4qJTd7fV9eY4"
      }
    },
    {
      "cell_type": "code",
      "execution_count": null,
      "metadata": {
        "colab": {
          "base_uri": "https://localhost:8080/"
        },
        "id": "89Qk5AYw_K4Q",
        "outputId": "ca743073-ff09-4f8b-c0d4-a6c940dc7b22"
      },
      "outputs": [
        {
          "output_type": "stream",
          "name": "stdout",
          "text": [
            "100\n",
            "The string \"100\" is accepted by the PDA.\n",
            "10001\n",
            "The string \"10001\" is not accepted by the PDA.\n",
            "1100\n",
            "The string \"1100\" is not accepted by the PDA.\n",
            "10000020\n",
            "The string \"10000020\" is not accepted by the PDA.\n",
            "110\n",
            "The string \"110\" is not accepted by the PDA.\n"
          ]
        }
      ],
      "source": [
        "class PDASimulator:\n",
        "    def __init__(self, states, alphabet, stack_alphabet, transitions, start_state, accept_states, stack_symbol):\n",
        "        self.states = states\n",
        "        self.alphabet = alphabet\n",
        "        self.stack_alphabet = stack_alphabet\n",
        "        self.transitions = transitions\n",
        "        self.start_state = start_state\n",
        "        self.accept_states = accept_states\n",
        "        self.stack_symbol = stack_symbol\n",
        "\n",
        "    def is_accepted(self, input_string):\n",
        "        stack = [self.stack_symbol]\n",
        "        current_state = self.start_state\n",
        "\n",
        "        for symbol in input_string:\n",
        "            if symbol not in self.alphabet:\n",
        "                return False  # Reject if symbol not in alphabet\n",
        "\n",
        "            if (current_state, symbol, stack[-1]) in self.transitions:\n",
        "                # Apply transition\n",
        "                current_state, pop_symbol, push_symbols = self.transitions[(current_state, symbol, stack.pop())]\n",
        "                if pop_symbol != 'epsilon':\n",
        "                    stack.extend(reversed(pop_symbol))\n",
        "                if push_symbols != 'epsilon':\n",
        "                    stack.extend(reversed(push_symbols))\n",
        "            else:\n",
        "                return False  # Reject if no transition is defined for the current state and symbol\n",
        "\n",
        "        # Check if the final state is an accept state\n",
        "        return current_state in self.accept_states\n",
        "\n",
        "# Example usage:\n",
        "# Define PDA parameters\n",
        "states = {'q0', 'q1', 'q2'}\n",
        "alphabet = {'0','1'}\n",
        "stack_alphabet = {'0', '1', 'Z'}\n",
        "transitions = {('q0', '1', 'Z'): ('q0', 'epsilon', '1Z'),\n",
        "               ('q0', '1', '1'): ('q0', 'epsilon', '11'),\n",
        "               ('q0', '0', '1'): ('q1', 'epsilon', 'epsilon'),\n",
        "               ('q1', '0', '1'): ('q1', 'epsilon', 'epsilon'),\n",
        "               ('q1', '0', 'Z'): ('q2', 'epsilon', 'Z'),\n",
        "               ('q2', '0', 'Z'): ('q2', 'epsilon', 'Z')}\n",
        "start_state = 'q0'\n",
        "accept_states = {'q2'}\n",
        "stack_symbol = 'Z'\n",
        "\n",
        "pda = PDASimulator(states, alphabet, stack_alphabet, transitions, start_state, accept_states, stack_symbol)\n",
        "\n",
        "for i in range (5):\n",
        "  input_string = input()\n",
        "  result = pda.is_accepted(input_string)\n",
        "\n",
        "  if result:\n",
        "      print(f'The string \"{input_string}\" is accepted by the PDA.')\n",
        "  else:\n",
        "      print(f'The string \"{input_string}\" is not accepted by the PDA.')\n"
      ]
    },
    {
      "cell_type": "markdown",
      "source": [
        "## PDASimulator Class\n",
        "\n",
        "def __init__(self, states, alphabet, stack_alphabet, transitions, start_state, accept_states, stack_symbol):\n",
        "\n",
        "states:\n",
        "\n",
        "مجموعه ای از حالت ها در PDA.\n",
        "\n",
        "stack_alphabet:\n",
        "\n",
        "الفبای پشته\n",
        "\n",
        "alphabet:\n",
        "\n",
        "الفبای زبان\n",
        "\n",
        "transitions:\n",
        "\n",
        "ترنس اکشن ها که در کد ما به فرم زیر هستند:\n",
        "\n",
        "(current_state, input_symbol, stack_top) -> (next_state, pop_symbols, push_symbols).\n",
        "\n",
        "start_state:\n",
        "\n",
        "استیت شروع\n",
        "\n",
        "accept_states:\n",
        "\n",
        "استیت پذیرش\n",
        "\n",
        "stack_symbol:\n",
        "\n",
        "الفبای استک\n",
        "\n",
        "## is_accepted Function\n",
        "<div dir=rtl>\n",
        "این تابع یک رشته ورودی می گیرد و بررسی می کند که آیا توسط PDA پذیرفته شده است یا خیر.\n",
        "\n",
        "استیت و پشته PDA را بر اساس پارامترهای ارائه شده مقداردهی اولیه می کند.\n",
        "\n",
        "حروف رشته را میخواند و بر روی PDA پیش می رود.\n",
        "\n",
        " PDA رشته را در صورتی که در انتهای ورودی به حالت پذیرش برسد می پذیرد.\n",
        "</div>"
      ],
      "metadata": {
        "id": "vKHCil02_QT0"
      }
    },
    {
      "cell_type": "markdown",
      "source": [
        "## Example Usage\n",
        "\n",
        "states = {'q0', 'q1', 'q2'}\n",
        "\n",
        "alphabet = {'0','1'}\n",
        "\n",
        "stack_alphabet = {'0', '1', 'Z'}\n",
        "\n",
        "transitions = {('q0', '1', 'Z'): ('q0', 'epsilon', '1Z'),\n",
        "               ('q0', '1', '1'): ('q0', 'epsilon', '11'),\n",
        "               ('q0', '0', '1'): ('q1', 'epsilon', 'epsilon'),\n",
        "               ('q1', '0', '1'): ('q1', 'epsilon', 'epsilon'),\n",
        "               ('q1', '0', 'Z'): ('q2', 'epsilon', 'Z'),\n",
        "               ('q2', '0', 'Z'): ('q2', 'epsilon', 'Z')}\n",
        "\n",
        "start_state = 'q0'\n",
        "\n",
        "accept_states = {'q2'}\n",
        "\n",
        "stack_symbol = 'Z'\n",
        "\n",
        "inputs: {100,1000,10001,1100,11100000}\n",
        "\n",
        "<div dir=rtl>\n",
        "PDA بالا را می سازیم که رشته هایی را اکسپت می کند که با 1 شروع شده و هر چقدر بخواهد 1 میگیرد اما بعد از اینکه به صفر رسید فقط صفر می پذیرد و در انتها باید تعداد صفر ها از یک ها بیشتر باشد."
      ],
      "metadata": {
        "id": "PGdNiI2cCpnd"
      }
    }
  ],
  "metadata": {
    "colab": {
      "provenance": [],
      "authorship_tag": "ABX9TyMZLAaGYSFfRX94y+3ZT2hP",
      "include_colab_link": true
    },
    "kernelspec": {
      "display_name": "Python 3",
      "name": "python3"
    },
    "language_info": {
      "name": "python"
    }
  },
  "nbformat": 4,
  "nbformat_minor": 0
}